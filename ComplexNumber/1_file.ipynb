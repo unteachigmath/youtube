{
 "cells": [
  {
   "cell_type": "code",
   "execution_count": 2,
   "metadata": {},
   "outputs": [
    {
     "data": {
      "text/html": [
       "<pre style=\"white-space:pre;overflow-x:auto;line-height:normal;font-family:Menlo,'DejaVu Sans Mono',consolas,'Courier New',monospace\">Manim Community <span style=\"color: #008000; text-decoration-color: #008000\">v0.16.0.post0</span>\n",
       "\n",
       "</pre>\n"
      ],
      "text/plain": [
       "Manim Community \u001b[32mv0.\u001b[0m\u001b[32m16.0\u001b[0m\u001b[32m.post0\u001b[0m\n",
       "\n"
      ]
     },
     "metadata": {},
     "output_type": "display_data"
    }
   ],
   "source": [
    "from manim import *\n",
    "\n"
   ]
  },
  {
   "cell_type": "code",
   "execution_count": 31,
   "metadata": {},
   "outputs": [
    {
     "name": "stderr",
     "output_type": "stream",
     "text": [
      "c:\\Users\\untea\\youtube\\lib\\site-packages\\manim\\mobject\\svg\\svg_mobject.py:345: UserWarning: media\\Tex\\7c84bd3f2a444464.svg contains a reference to id #g2-151, which is not recognized\n",
      "  warnings.warn(warning_text)\n",
      "c:\\Users\\untea\\youtube\\lib\\site-packages\\manim\\mobject\\svg\\svg_mobject.py:345: UserWarning: media\\Tex\\7c84bd3f2a444464.svg contains a reference to id #g2-184, which is not recognized\n",
      "  warnings.warn(warning_text)\n",
      "c:\\Users\\untea\\youtube\\lib\\site-packages\\manim\\mobject\\svg\\svg_mobject.py:345: UserWarning: media\\Tex\\46b4adea30a78ef3.svg contains a reference to id #g7-15, which is not recognized\n",
      "  warnings.warn(warning_text)\n",
      "c:\\Users\\untea\\youtube\\lib\\site-packages\\manim\\mobject\\svg\\svg_mobject.py:345: UserWarning: media\\Tex\\46b4adea30a78ef3.svg contains a reference to id #g6-72, which is not recognized\n",
      "  warnings.warn(warning_text)\n",
      "c:\\Users\\untea\\youtube\\lib\\site-packages\\manim\\mobject\\svg\\svg_mobject.py:345: UserWarning: media\\Tex\\46b4adea30a78ef3.svg contains a reference to id #g6-141, which is not recognized\n",
      "  warnings.warn(warning_text)\n",
      "c:\\Users\\untea\\youtube\\lib\\site-packages\\manim\\mobject\\svg\\svg_mobject.py:345: UserWarning: media\\Tex\\46b4adea30a78ef3.svg contains a reference to id #g2-152, which is not recognized\n",
      "  warnings.warn(warning_text)\n",
      "c:\\Users\\untea\\youtube\\lib\\site-packages\\manim\\mobject\\svg\\svg_mobject.py:345: UserWarning: media\\Tex\\46b4adea30a78ef3.svg contains a reference to id #g2-208, which is not recognized\n",
      "  warnings.warn(warning_text)\n",
      "c:\\Users\\untea\\youtube\\lib\\site-packages\\manim\\mobject\\svg\\svg_mobject.py:345: UserWarning: media\\Tex\\46b4adea30a78ef3.svg contains a reference to id #g2-2, which is not recognized\n",
      "  warnings.warn(warning_text)\n",
      "c:\\Users\\untea\\youtube\\lib\\site-packages\\manim\\mobject\\svg\\svg_mobject.py:345: UserWarning: media\\Tex\\46b4adea30a78ef3.svg contains a reference to id #g2-19, which is not recognized\n",
      "  warnings.warn(warning_text)\n",
      "c:\\Users\\untea\\youtube\\lib\\site-packages\\manim\\mobject\\svg\\svg_mobject.py:345: UserWarning: media\\Tex\\46b4adea30a78ef3.svg contains a reference to id #g2-188, which is not recognized\n",
      "  warnings.warn(warning_text)\n",
      "c:\\Users\\untea\\youtube\\lib\\site-packages\\manim\\mobject\\svg\\svg_mobject.py:345: UserWarning: media\\Tex\\46b4adea30a78ef3.svg contains a reference to id #g2-223, which is not recognized\n",
      "  warnings.warn(warning_text)\n",
      "c:\\Users\\untea\\youtube\\lib\\site-packages\\manim\\mobject\\svg\\svg_mobject.py:345: UserWarning: media\\Tex\\46b4adea30a78ef3.svg contains a reference to id #g2-27, which is not recognized\n",
      "  warnings.warn(warning_text)\n",
      "c:\\Users\\untea\\youtube\\lib\\site-packages\\manim\\mobject\\svg\\svg_mobject.py:345: UserWarning: media\\Tex\\46b4adea30a78ef3.svg contains a reference to id #g2-116, which is not recognized\n",
      "  warnings.warn(warning_text)\n",
      "                                                                                                  \r"
     ]
    },
    {
     "data": {
      "text/html": [
       "<video src=\"media\\jupyter\\Scene1@2023-02-19@21-29-07.mp4\" controls autoplay loop style=\"max-width: 60%;\"  >\n",
       "      Your browser does not support the <code>video</code> element.\n",
       "    </video>"
      ],
      "text/plain": [
       "<IPython.core.display.Video object>"
      ]
     },
     "metadata": {},
     "output_type": "display_data"
    }
   ],
   "source": [
    "%%manim -v WARNING --disable_caching -qh Scene1\n",
    "\n",
    "class Scene1(Scene):\n",
    "    def construct(self):\n",
    "        text1 = MathTex('i^2 = -1', color = BLUE_C)\n",
    "        text1.scale(3)\n",
    "\n",
    "        text2 = MathTex(r'\\sqrt{-1} = i', color = BLUE_C)\n",
    "        text2.scale(3)\n",
    "\n",
    "        text3 = MathTex(r'a+bi', color = BLUE_C)\n",
    "        text3.scale(3)\n",
    "\n",
    "        text4 = MathTex(r'i > 0 ', color = BLUE_C)\n",
    "        text4.scale(3)\n",
    "\n",
    "        text4_1 = text4.copy()\n",
    "        text4_1.scale(0.5)\n",
    "        text4_1.move_to(LEFT*4+UP*2)\n",
    "\n",
    "        text5 = MathTex(r'=> ii > i0 ', color = BLUE_C)\n",
    "        text5.scale(1.4)\n",
    "        text5.next_to(text4_1, DOWN)\n",
    "\n",
    "        text6 = MathTex(r'=> -1 > 0', color = BLUE_C)\n",
    "        text6.scale(1.4)\n",
    "        text6.next_to(text5, RIGHT)\n",
    "\n",
    "        text7 = Tex('모순')\n",
    "        text8 = Tex('i는 0보다 크지 않다')\n",
    "        \n",
    "        \n",
    "        self.wait(2)\n",
    "        self.play(Write(text1))\n",
    "        self.wait(2)\n",
    "        self.play(Transform(text1, text2))\n",
    "        self.wait(2)\n",
    "        self.play(Transform(text1, text3))\n",
    "        self.wait(2)\n",
    "        self.play(Transform(text1, text4))\n",
    "        self.wait(2)\n",
    "        self.play(Transform(text1, text4_1))\n",
    "        self.wait(2)\n",
    "        self.play(Write(text5))\n",
    "        self.wait(2)\n",
    "        self.play(Write(text6))\n",
    "        self.wait(2)\n",
    "        self.play(FadeOut(text1), FadeOut(text5), FadeOut(text6))\n",
    "        self.wait(2)\n",
    "        self.play(Write(text7))\n",
    "        self.wait(2)\n",
    "        self.play(FadeOut(text7))\n",
    "        self.wait(2)\n",
    "        self.play(Write(text8))\n",
    "        self.wait(2)\n",
    "        self.play(FadeOut(text8))\n",
    "        self.wait(2)\n",
    "        \n",
    "\n"
   ]
  },
  {
   "cell_type": "code",
   "execution_count": 32,
   "metadata": {},
   "outputs": [
    {
     "name": "stderr",
     "output_type": "stream",
     "text": [
      "                                                                                         \r"
     ]
    },
    {
     "data": {
      "text/html": [
       "<video src=\"media\\jupyter\\Scene2@2023-02-19@21-29-19.mp4\" controls autoplay loop style=\"max-width: 60%;\"  >\n",
       "      Your browser does not support the <code>video</code> element.\n",
       "    </video>"
      ],
      "text/plain": [
       "<IPython.core.display.Video object>"
      ]
     },
     "metadata": {},
     "output_type": "display_data"
    }
   ],
   "source": [
    "%%manim -v WARNING --disable_caching -qh Scene2\n",
    "\n",
    "class Scene2(Scene):\n",
    "    def construct(self):\n",
    "        tt1 = MathTex('i = 0', color = BLUE_C)\n",
    "        tt1.scale(3)\n",
    "\n",
    "        tt2 = MathTex('ii = i0', color = BLUE_C)\n",
    "        tt2.scale(3)\n",
    "\n",
    "        tt3 = MathTex('-1  = 0', color = BLUE_C)\n",
    "        tt3.scale(3)\n",
    "\n",
    "        self.wait(2)\n",
    "        self.play(Write(tt1))\n",
    "        self.wait(2)\n",
    "        self.play(Transform(tt1, tt2))\n",
    "        self.wait(2)\n",
    "        self.play(Transform(tt1, tt3))\n",
    "        self.wait(2)\n",
    "        self.play(FadeOut(tt1))\n",
    "        self.wait(2)\n"
   ]
  },
  {
   "cell_type": "code",
   "execution_count": 33,
   "metadata": {},
   "outputs": [
    {
     "name": "stderr",
     "output_type": "stream",
     "text": [
      "c:\\Users\\untea\\youtube\\lib\\site-packages\\manim\\mobject\\svg\\svg_mobject.py:345: UserWarning: media\\Tex\\c263e8a14e7a382b.svg contains a reference to id #g3-129, which is not recognized\n",
      "  warnings.warn(warning_text)\n",
      "c:\\Users\\untea\\youtube\\lib\\site-packages\\manim\\mobject\\svg\\svg_mobject.py:345: UserWarning: media\\Tex\\c263e8a14e7a382b.svg contains a reference to id #g3-140, which is not recognized\n",
      "  warnings.warn(warning_text)\n",
      "c:\\Users\\untea\\youtube\\lib\\site-packages\\manim\\mobject\\svg\\svg_mobject.py:345: UserWarning: media\\Tex\\c263e8a14e7a382b.svg contains a reference to id #g3-149, which is not recognized\n",
      "  warnings.warn(warning_text)\n",
      "c:\\Users\\untea\\youtube\\lib\\site-packages\\manim\\mobject\\svg\\svg_mobject.py:345: UserWarning: media\\Tex\\c263e8a14e7a382b.svg contains a reference to id #g6-72, which is not recognized\n",
      "  warnings.warn(warning_text)\n",
      "c:\\Users\\untea\\youtube\\lib\\site-packages\\manim\\mobject\\svg\\svg_mobject.py:345: UserWarning: media\\Tex\\c263e8a14e7a382b.svg contains a reference to id #g6-141, which is not recognized\n",
      "  warnings.warn(warning_text)\n",
      "c:\\Users\\untea\\youtube\\lib\\site-packages\\manim\\mobject\\svg\\svg_mobject.py:345: UserWarning: media\\Tex\\c263e8a14e7a382b.svg contains a reference to id #g7-15, which is not recognized\n",
      "  warnings.warn(warning_text)\n",
      "c:\\Users\\untea\\youtube\\lib\\site-packages\\manim\\mobject\\svg\\svg_mobject.py:345: UserWarning: media\\Tex\\c263e8a14e7a382b.svg contains a reference to id #g2-152, which is not recognized\n",
      "  warnings.warn(warning_text)\n",
      "c:\\Users\\untea\\youtube\\lib\\site-packages\\manim\\mobject\\svg\\svg_mobject.py:345: UserWarning: media\\Tex\\c263e8a14e7a382b.svg contains a reference to id #g2-208, which is not recognized\n",
      "  warnings.warn(warning_text)\n",
      "c:\\Users\\untea\\youtube\\lib\\site-packages\\manim\\mobject\\svg\\svg_mobject.py:345: UserWarning: media\\Tex\\c263e8a14e7a382b.svg contains a reference to id #g2-2, which is not recognized\n",
      "  warnings.warn(warning_text)\n",
      "c:\\Users\\untea\\youtube\\lib\\site-packages\\manim\\mobject\\svg\\svg_mobject.py:345: UserWarning: media\\Tex\\c263e8a14e7a382b.svg contains a reference to id #g2-19, which is not recognized\n",
      "  warnings.warn(warning_text)\n",
      "c:\\Users\\untea\\youtube\\lib\\site-packages\\manim\\mobject\\svg\\svg_mobject.py:345: UserWarning: media\\Tex\\c263e8a14e7a382b.svg contains a reference to id #g2-27, which is not recognized\n",
      "  warnings.warn(warning_text)\n",
      "c:\\Users\\untea\\youtube\\lib\\site-packages\\manim\\mobject\\svg\\svg_mobject.py:345: UserWarning: media\\Tex\\c263e8a14e7a382b.svg contains a reference to id #g2-116, which is not recognized\n",
      "  warnings.warn(warning_text)\n",
      "                                                                                                  \r"
     ]
    },
    {
     "data": {
      "text/html": [
       "<video src=\"media\\jupyter\\Scene3@2023-02-19@21-29-45.mp4\" controls autoplay loop style=\"max-width: 60%;\"  >\n",
       "      Your browser does not support the <code>video</code> element.\n",
       "    </video>"
      ],
      "text/plain": [
       "<IPython.core.display.Video object>"
      ]
     },
     "metadata": {},
     "output_type": "display_data"
    }
   ],
   "source": [
    "%%manim -v WARNING --disable_caching -qh Scene3\n",
    "\n",
    "class Scene3(Scene):\n",
    "    def construct(self):\n",
    "        # text1 = MathTex('i^2 = -1', color = BLUE_C)\n",
    "        # text1.scale(3)\n",
    "\n",
    "        # text2 = MathTex(r'\\sqrt{-1} = i', color = BLUE_C)\n",
    "        # text2.scale(3)\n",
    "\n",
    "        # text3 = MathTex(r'a+bi', color = BLUE_C)\n",
    "        # text3.scale(3)\n",
    "\n",
    "        text4 = MathTex(r'i < 0 ', color = BLUE_C)\n",
    "        text4.scale(3)\n",
    "\n",
    "        text4_1 = text4.copy()\n",
    "        text4_1.scale(0.5)\n",
    "        text4_1.move_to(LEFT*4+UP*2)\n",
    "\n",
    "        text5 = MathTex(r'=> ii > i0 ', color = BLUE_C)\n",
    "        text5.scale(1.4)\n",
    "        text5.next_to(text4_1, DOWN)\n",
    "\n",
    "        text6 = MathTex(r'=> -1 > 0', color = BLUE_C)\n",
    "        text6.scale(1.4)\n",
    "        text6.next_to(text5, RIGHT)\n",
    "\n",
    "        text7 = Tex('모순')\n",
    "        text8 = Tex('i는 1보다 작지 않다')\n",
    "\n",
    "        \n",
    "        self.wait(2)\n",
    "        self.play(Write(text4))\n",
    "        self.wait(2)\n",
    "        self.play(Transform(text4, text4_1))\n",
    "        self.wait(2)\n",
    "        self.play(Write(text5))\n",
    "        self.wait(2)\n",
    "        self.play(Write(text6))\n",
    "        self.wait(2)\n",
    "        self.play(FadeOut(text4), FadeOut(text5), FadeOut(text6))\n",
    "        self.wait(2)\n",
    "        self.play(Write(text7))\n",
    "        self.wait(2)\n",
    "        self.play(FadeOut(text7))\n",
    "        self.wait(2)\n",
    "        self.play(Write(text8))\n",
    "        self.wait(2)\n",
    "        self.play(FadeOut(text8))\n",
    "        self.wait(2)\n",
    "        "
   ]
  },
  {
   "cell_type": "code",
   "execution_count": 34,
   "metadata": {},
   "outputs": [
    {
     "name": "stderr",
     "output_type": "stream",
     "text": [
      "                                                                                     \r"
     ]
    },
    {
     "data": {
      "text/html": [
       "<video src=\"media\\jupyter\\Scene4@2023-02-19@21-29-54.mp4\" controls autoplay loop style=\"max-width: 60%;\"  >\n",
       "      Your browser does not support the <code>video</code> element.\n",
       "    </video>"
      ],
      "text/plain": [
       "<IPython.core.display.Video object>"
      ]
     },
     "metadata": {},
     "output_type": "display_data"
    }
   ],
   "source": [
    "%%manim -v WARNING --disable_caching -qh Scene4\n",
    "\n",
    "class Scene4(Scene):\n",
    "    def construct(self):\n",
    "        line = Line()\n",
    "        line.set_length(20)\n",
    "\n",
    "        dot = Dot(color=YELLOW, radius=0.12)\n",
    "        tt1 = Tex('0')\n",
    "        tt1.next_to(tt1, UR, buff = 0.1)\n",
    "        tt1.scale(1.5)\n",
    "        tt1.set_color(YELLOW)\n",
    "\n",
    "        tt2 = MathTex('i')\n",
    "        tt2.scale(2)\n",
    "        tt2.set_color(BLUE_C)\n",
    "        tt2.move_to(UP*2.5)\n",
    "\n",
    "        tt3 = Tex('?')\n",
    "        tt3.scale(2)\n",
    "        tt3.set_color(BLUE_C)\n",
    "        tt3.move_to(UP*2.5)\n",
    "\n",
    "\n",
    "        self.wait(2)\n",
    "        self.play(Write(line), Write(dot), Write(tt1))\n",
    "        self.wait(2)\n",
    "        self.play(Write(tt2))\n",
    "        self.wait(2)\n",
    "        self.play(Transform(tt2,tt3))\n",
    "        self.wait(2)"
   ]
  },
  {
   "cell_type": "code",
   "execution_count": 35,
   "metadata": {},
   "outputs": [
    {
     "name": "stderr",
     "output_type": "stream",
     "text": [
      "                                                                                                                   \r"
     ]
    },
    {
     "data": {
      "text/html": [
       "<video src=\"media\\jupyter\\Scene5@2023-02-19@21-30-17.mp4\" controls autoplay loop style=\"max-width: 60%;\"  >\n",
       "      Your browser does not support the <code>video</code> element.\n",
       "    </video>"
      ],
      "text/plain": [
       "<IPython.core.display.Video object>"
      ]
     },
     "metadata": {},
     "output_type": "display_data"
    }
   ],
   "source": [
    "%%manim -v WARNING --disable_caching -qh Scene5\n",
    "\n",
    "class Scene5(Scene):\n",
    "    def construct(self):\n",
    "        plane = ComplexPlane()\n",
    "        plane.add_coordinates()\n",
    "\n",
    "        n1 = Arrow(start = plane.c2p(0,0), end =  plane.c2p(2,2))\n",
    "        label1 = MathTex(\"2+2i\").next_to(n1, UR, 0.1)\n",
    "\n",
    "        n2 = Arrow(start = plane.c2p(0,0), end =  plane.c2p(-3,1))\n",
    "        label2 = MathTex(\"-3+1i\").next_to(n2, UL, 0.1)\n",
    "\n",
    "        n1.generate_target()\n",
    "        n1.target.shift(LEFT*3, UP)\n",
    "\n",
    "        n2.generate_target()\n",
    "        n2.target.shift(RIGHT*2, UP*2)\n",
    "\n",
    "        n2_1 = n2.copy()\n",
    "        n1_1 = n1.copy()\n",
    "\n",
    "        \n",
    "\n",
    "        label0 = MathTex(\"-1+3i\").next_to(n2.target, UL, 0.1)\n",
    "\n",
    "        tt1 = MathTex('(a+bi) + (c+di) = (a+c) + (b+d)i')\n",
    "        tt1.scale(1.5)\n",
    "        tt1.set_color(RED)\n",
    "        tt1.move_to(plane.c2p(0,-1.5))        \n",
    "\n",
    "\n",
    "        \n",
    "\n",
    "        \n",
    "\n",
    "        self.wait(2)\n",
    "        self.play(Write(plane))\n",
    "        self.wait(2)\n",
    "        self.play(Write(n1), Write(label1))\n",
    "        self.wait(2)\n",
    "        self.play(Write(n2), Write(label2))\n",
    "        self.add(n1_1,n2_1)\n",
    "        self.wait(2)\n",
    "        self.play(MoveToTarget(n1), Write(label0))\n",
    "        self.wait(2)\n",
    "        self.play(MoveToTarget(n2))\n",
    "        self.wait(2)\n",
    "        self.play(Write(tt1))\n",
    "        self.wait(2)\n",
    "        "
   ]
  },
  {
   "cell_type": "code",
   "execution_count": 36,
   "metadata": {},
   "outputs": [
    {
     "name": "stderr",
     "output_type": "stream",
     "text": [
      "                                                                                                  \r"
     ]
    },
    {
     "data": {
      "text/html": [
       "<video src=\"media\\jupyter\\Scene6@2023-02-19@21-30-40.mp4\" controls autoplay loop style=\"max-width: 60%;\"  >\n",
       "      Your browser does not support the <code>video</code> element.\n",
       "    </video>"
      ],
      "text/plain": [
       "<IPython.core.display.Video object>"
      ]
     },
     "metadata": {},
     "output_type": "display_data"
    }
   ],
   "source": [
    "%%manim -v WARNING --disable_caching -qh Scene6\n",
    "\n",
    "class Scene6(Scene):\n",
    "    def construct(self):\n",
    "        plane = ComplexPlane()\n",
    "        plane.add_coordinates()\n",
    "\n",
    "        t = ValueTracker(1)\n",
    "\n",
    "        n1 = always_redraw(lambda : \n",
    "                Arrow(start = plane.c2p(0,0), end =  plane.c2p(2*t.get_value(),2*t.get_value()))\n",
    "        )\n",
    "\n",
    "        label1 = MathTex(\"2+2i\").move_to(plane.c2p(2.5,2))\n",
    "\n",
    "        label2 = MathTex(\"2(2+2i)\").move_to(plane.c2p(5,3.5))\n",
    "\n",
    "        label3 = MathTex(\"-(2+2i)\").move_to(plane.c2p(-3, -2))\n",
    "\n",
    "        # n1 = Arrow(start = plane.c2p(0,0), end =  plane.c2p(2,2))\n",
    "        # label1 = MathTex(\"2+2i\").next_to(n1, UR, 0.1)\n",
    "\n",
    "        # t.animate.set_value(0.2)\n",
    "        \n",
    "        tt1 = MathTex(r'|2+2i| = \\sqrt{2^2+2^2} = 2\\sqrt{2}')\n",
    "        tt1.scale(0.88)\n",
    "        tt1.move_to(plane.c2p(-4,2.5))\n",
    "\n",
    "        circle = Circle(radius=2.8284) \n",
    "\n",
    "        s = ValueTracker(PI/4)\n",
    "        n2 = always_redraw(lambda : \n",
    "                Arrow(\n",
    "                    start = plane.c2p(0,0), \n",
    "                    end =  plane.c2p(np.cos(s.get_value())*3,np.sin(s.get_value())*3)                    \n",
    "                    )\n",
    "        )\n",
    "\n",
    "\n",
    "\n",
    "\n",
    "               \n",
    "        # self.add(plane)\n",
    "        # self.add(tt1, circle, n1, n2)  \n",
    "        self.add(plane)  \n",
    "        self.play(Write(n1), Write(label1))\n",
    "        self.wait(2)\n",
    "        self.play(t.animate.set_value(2), FadeOut(label1), Write(label2))\n",
    "        self.wait(2)\n",
    "        self.play(t.animate.set_value(-1), FadeOut(label2), Write(label3))\n",
    "        self.wait(2)\n",
    "        self.play(FadeOut(n1), FadeOut(label3))\n",
    "        self.wait(2)\n",
    "        self.play(Write(n2))\n",
    "        self.wait(2)\n",
    "        self.play(DrawBorderThenFill(circle))\n",
    "        self.wait(2)\n",
    "        self.play(s.animate.set_value(2*PI + PI/4), run_time = 2.5)\n",
    "        self.wait(2)\n",
    "                \n",
    "        "
   ]
  },
  {
   "cell_type": "code",
   "execution_count": 37,
   "metadata": {},
   "outputs": [
    {
     "name": "stderr",
     "output_type": "stream",
     "text": [
      "c:\\Users\\untea\\youtube\\lib\\site-packages\\manim\\mobject\\svg\\svg_mobject.py:345: UserWarning: media\\Tex\\c5717b84d0b2e5e5.svg contains a reference to id #g5-122, which is not recognized\n",
      "  warnings.warn(warning_text)\n",
      "c:\\Users\\untea\\youtube\\lib\\site-packages\\manim\\mobject\\svg\\svg_mobject.py:345: UserWarning: media\\Tex\\c5717b84d0b2e5e5.svg contains a reference to id #g4-2, which is not recognized\n",
      "  warnings.warn(warning_text)\n",
      "c:\\Users\\untea\\youtube\\lib\\site-packages\\manim\\mobject\\svg\\svg_mobject.py:345: UserWarning: media\\Tex\\c5717b84d0b2e5e5.svg contains a reference to id #g4-180, which is not recognized\n",
      "  warnings.warn(warning_text)\n",
      "c:\\Users\\untea\\youtube\\lib\\site-packages\\manim\\mobject\\svg\\svg_mobject.py:345: UserWarning: media\\Tex\\c5717b84d0b2e5e5.svg contains a reference to id #g6-52, which is not recognized\n",
      "  warnings.warn(warning_text)\n",
      "c:\\Users\\untea\\youtube\\lib\\site-packages\\manim\\mobject\\svg\\svg_mobject.py:345: UserWarning: media\\Tex\\c5717b84d0b2e5e5.svg contains a reference to id #g6-159, which is not recognized\n",
      "  warnings.warn(warning_text)\n",
      "c:\\Users\\untea\\youtube\\lib\\site-packages\\manim\\mobject\\svg\\svg_mobject.py:345: UserWarning: media\\Tex\\c5717b84d0b2e5e5.svg contains a reference to id #g6-164, which is not recognized\n",
      "  warnings.warn(warning_text)\n",
      "c:\\Users\\untea\\youtube\\lib\\site-packages\\manim\\mobject\\svg\\svg_mobject.py:345: UserWarning: media\\Tex\\714a1c1e31d471df.svg contains a reference to id #g6-52, which is not recognized\n",
      "  warnings.warn(warning_text)\n",
      "c:\\Users\\untea\\youtube\\lib\\site-packages\\manim\\mobject\\svg\\svg_mobject.py:345: UserWarning: media\\Tex\\714a1c1e31d471df.svg contains a reference to id #g6-159, which is not recognized\n",
      "  warnings.warn(warning_text)\n",
      "c:\\Users\\untea\\youtube\\lib\\site-packages\\manim\\mobject\\svg\\svg_mobject.py:345: UserWarning: media\\Tex\\714a1c1e31d471df.svg contains a reference to id #g6-164, which is not recognized\n",
      "  warnings.warn(warning_text)\n",
      "c:\\Users\\untea\\youtube\\lib\\site-packages\\manim\\mobject\\svg\\svg_mobject.py:345: UserWarning: media\\Tex\\714a1c1e31d471df.svg contains a reference to id #g2-153, which is not recognized\n",
      "  warnings.warn(warning_text)\n",
      "c:\\Users\\untea\\youtube\\lib\\site-packages\\manim\\mobject\\svg\\svg_mobject.py:345: UserWarning: media\\Tex\\714a1c1e31d471df.svg contains a reference to id #g2-232, which is not recognized\n",
      "  warnings.warn(warning_text)\n",
      "                                                                                             \r"
     ]
    },
    {
     "data": {
      "text/html": [
       "<video src=\"media\\jupyter\\Scene7@2023-02-19@21-30-46.mp4\" controls autoplay loop style=\"max-width: 60%;\"  >\n",
       "      Your browser does not support the <code>video</code> element.\n",
       "    </video>"
      ],
      "text/plain": [
       "<IPython.core.display.Video object>"
      ]
     },
     "metadata": {},
     "output_type": "display_data"
    }
   ],
   "source": [
    "%%manim -v WARNING --disable_caching -qh Scene7\n",
    "\n",
    "class Scene7(Scene):\n",
    "    def construct(self):\n",
    "        tt1 = Tex('실수 x 복소수')\n",
    "        tt2 = Tex('복소수 x 복소수')\n",
    "\n",
    "        self.wait(2)\n",
    "        self.play(Write(tt1))\n",
    "        self.wait(2)\n",
    "        self.play(Transform(tt1, tt2))"
   ]
  },
  {
   "cell_type": "code",
   "execution_count": 38,
   "metadata": {},
   "outputs": [
    {
     "name": "stderr",
     "output_type": "stream",
     "text": [
      "                                                                                                  \r"
     ]
    },
    {
     "data": {
      "text/html": [
       "<video src=\"media\\jupyter\\Scene8@2023-02-19@21-30-58.mp4\" controls autoplay loop style=\"max-width: 60%;\"  >\n",
       "      Your browser does not support the <code>video</code> element.\n",
       "    </video>"
      ],
      "text/plain": [
       "<IPython.core.display.Video object>"
      ]
     },
     "metadata": {},
     "output_type": "display_data"
    }
   ],
   "source": [
    "%%manim -v WARNING --disable_caching -qh Scene8\n",
    "\n",
    "class Scene8(MovingCameraScene):\n",
    "    def construct(self):\n",
    "        plane = ComplexPlane()\n",
    "        plane.add_coordinates()\n",
    "\n",
    "        circle = Circle(radius=1) \n",
    "\n",
    "        t = ValueTracker(1)\n",
    "\n",
    "        l1 = Arrow(\n",
    "                    start = plane.c2p(0,0), \n",
    "                    end =  plane.c2p(1,0)\n",
    "        )\n",
    "\n",
    "        l2 = Arrow(\n",
    "                    start = plane.c2p(0,0), \n",
    "                    end =  plane.c2p(0,1)\n",
    "        )\n",
    "\n",
    "        n1 = always_redraw(lambda : \n",
    "                Arrow(\n",
    "                    start = plane.c2p(0,0), \n",
    "                    end =  plane.c2p(np.cos(t.get_value()),np.sin(t.get_value())),\n",
    "                    buff = 0,\n",
    "                    color = YELLOW                    \n",
    "                    )\n",
    "        )\n",
    "\n",
    "        s = ValueTracker(2)\n",
    "\n",
    "        n2 = always_redraw(lambda : \n",
    "                Arrow(\n",
    "                    start = plane.c2p(0,0), \n",
    "                    end =  plane.c2p(np.cos(s.get_value()),np.sin(s.get_value())),\n",
    "                    buff = 0,\n",
    "                    color = PINK                    \n",
    "                    )\n",
    "        )\n",
    "\n",
    "        # angle1 = Angle(l1, n1)\n",
    "        # angle1.set_color(YELLOW)\n",
    "\n",
    "        angle1 = always_redraw(lambda : \n",
    "                Angle(l1, n1, color = YELLOW)\n",
    "                \n",
    "\n",
    "        )\n",
    "        \n",
    "\n",
    "        angle2 = Angle(l1, n2)\n",
    "        angle2.set_color(PINK)\n",
    "        angle2.scale(0.7)\n",
    "\n",
    "\n",
    "\n",
    "        a = MathTex(r'\\alpha')\n",
    "        a.next_to(angle1,RIGHT)\n",
    "        a.scale(0.6)\n",
    "        a.set_color(YELLOW)\n",
    "\n",
    "      \n",
    "\n",
    "        b = MathTex(r'\\beta')\n",
    "        b.next_to(angle2, LEFT)\n",
    "        b.scale(0.6)\n",
    "        b.set_color(PINK)\n",
    "\n",
    "        c = MathTex(r'\\alpha + \\beta')\n",
    "        c.scale(0.6)\n",
    "        c.set_color(YELLOW)\n",
    "        c.next_to(angle1, RIGHT)\n",
    "\n",
    "        real_line = Line(start = [-4,0,0], end = [4,0,0])\n",
    "        real_line.set_color(RED)\n",
    "\n",
    "\n",
    "\n",
    "\n",
    "\n",
    "        self.camera.frame.save_state()\n",
    "        self.add(circle, n1, n2, plane, angle1, angle2, a, b)\n",
    "        self.play(self.camera.frame.animate.scale(0.5), run_time = 2)\n",
    "        self.wait(2)\n",
    "        self.play(t.animate.set_value(3), Write(c), FadeOut(a))\n",
    "        self.wait(2)\n",
    "        self.play(DrawBorderThenFill(real_line), run_time = 0.1)\n",
    "        self.wait(2)\n",
    "        \n",
    "        "
   ]
  },
  {
   "cell_type": "code",
   "execution_count": 39,
   "metadata": {},
   "outputs": [
    {
     "name": "stderr",
     "output_type": "stream",
     "text": [
      "                                                                                                         \r"
     ]
    },
    {
     "data": {
      "text/html": [
       "<video src=\"media\\jupyter\\Scene9@2023-02-19@21-31-11.mp4\" controls autoplay loop style=\"max-width: 60%;\"  >\n",
       "      Your browser does not support the <code>video</code> element.\n",
       "    </video>"
      ],
      "text/plain": [
       "<IPython.core.display.Video object>"
      ]
     },
     "metadata": {},
     "output_type": "display_data"
    }
   ],
   "source": [
    "%%manim -v WARNING --disable_caching -qh Scene9\n",
    "\n",
    "class Scene9(Scene):\n",
    "    def construct(self):\n",
    "        plane = ComplexPlane()\n",
    "        plane.add_coordinates()\n",
    "\n",
    "        n1 = Arrow(start = plane.c2p(0,0), end =  plane.c2p(2,2))\n",
    "        label1 = MathTex(\"2+2i\").next_to(n1, UR, 0.1)\n",
    "\n",
    "        n1_1 = Arrow(start = plane.c2p(0,0), end =  plane.c2p(1,1), buff = 0)\n",
    "        n1_1.set_color(RED)\n",
    "        label1_1 = MathTex(r\"\\frac{2+2i}{2\\sqrt2} \").next_to(n1_1, RIGHT, 0.1)\n",
    "        label1_1.set_color(RED)\n",
    "        label1_1.scale(0.7)\n",
    "\n",
    "        n1_2 = Arrow(start = plane.c2p(0,0), end =  plane.c2p(2.828,0), buff = 0)\n",
    "        n1_2.set_color(BLUE)\n",
    "        label1_2 = MathTex(r\"2\\sqrt2 \").move_to(plane.c2p(3.5,0.5))\n",
    "        label1_2.set_color(BLUE)\n",
    "        label1_2.scale(0.9)\n",
    "        \n",
    "\n",
    "        n2 = Arrow(start = plane.c2p(0,0), end =  plane.c2p(-2,1), buff = 0)\n",
    "        label2 = MathTex(\"-2+1i\").next_to(n2, UL, 0.1)\n",
    "\n",
    "\n",
    "        # t = ValueTracker(0.852*PI)\n",
    "        # s = ValueTracker(1)\n",
    "\n",
    "        # r = always_redraw(lambda :\n",
    "        #         Arrow(\n",
    "        #         start = plane.c2p(0,0), \n",
    "        #         end =  plane.c2p(np.cos(t.get_value())*2.238*(s.get_value()),np.sin(t.get_value())*2.238*(s.get_value)),\n",
    "        #         buff = 0,\n",
    "        #         color = GREEN\n",
    "        #         )\n",
    "\n",
    "        # )\n",
    "\n",
    "        t = ComplexValueTracker(-2+1j)\n",
    "        r = always_redraw(lambda :\n",
    "                Arrow(\n",
    "                    start = plane.c2p(0,0), \n",
    "                    end =  plane.number_to_point(t.get_value()), \n",
    "                    buff = 0,\n",
    "                    color = GREEN\n",
    "                    )\n",
    "                \n",
    "        )\n",
    "\n",
    "        r_label = MathTex(r'-6 + -2i')\n",
    "        r_label.move_to(plane.c2p(-4.5, -2))\n",
    "        r_label.set_color(GREEN)\n",
    "\n",
    "        #0.3524*PI\n",
    "        #0.8524*PI\n",
    "        #0.25*PI\n",
    "\n",
    "\n",
    "        self.add(n1, n2, label1, label2, plane, label1_1, n1_1, n1_2, label1_2)\n",
    "        self.add(r)\n",
    "        self.wait(2)\n",
    "        self.play(t.animate.set_value(t.get_value()*(0.7071+0.7071j)))\n",
    "        self.wait(2)\n",
    "        self.play(t.animate.set_value(t.get_value()*2.8284), Write(r_label))\n",
    "        self.wait(2)\n",
    "        self.play(t.animate.set_value(-2+1j), FadeOut(r_label))\n",
    "        self.wait(2)\n",
    "        self.play(t.animate.set_value(t.get_value()*(0.7071+0.7071j)*2.8284), Write(r_label))\n",
    "        self.wait(2)\n",
    "                "
   ]
  },
  {
   "cell_type": "code",
   "execution_count": 40,
   "metadata": {},
   "outputs": [
    {
     "name": "stderr",
     "output_type": "stream",
     "text": [
      "                                                                                                                                                                                          \r"
     ]
    },
    {
     "data": {
      "text/html": [
       "<video src=\"media\\jupyter\\Scene10@2023-02-19@21-31-41.mp4\" controls autoplay loop style=\"max-width: 60%;\"  >\n",
       "      Your browser does not support the <code>video</code> element.\n",
       "    </video>"
      ],
      "text/plain": [
       "<IPython.core.display.Video object>"
      ]
     },
     "metadata": {},
     "output_type": "display_data"
    }
   ],
   "source": [
    "%%manim -v WARNING --disable_caching -qh Scene10\n",
    "\n",
    "class Scene10(MovingCameraScene):\n",
    "    def construct(self):\n",
    "        plane = ComplexPlane()\n",
    "        plane.add_coordinates()\n",
    "\n",
    "        circle = Circle(radius=1) \n",
    "\n",
    "        t = ValueTracker(1)\n",
    "\n",
    "        l1 = Arrow(\n",
    "                    start = plane.c2p(0,0), \n",
    "                    end =  plane.c2p(1,0)\n",
    "        )\n",
    "\n",
    "        l2 = Arrow(\n",
    "                    start = plane.c2p(0,0), \n",
    "                    end =  plane.c2p(0,1)\n",
    "        )\n",
    "\n",
    "        l3 = Arrow(\n",
    "                start = plane.c2p(0,0), \n",
    "                end =  plane.c2p(np.cos(3), np.sin(3))\n",
    "        )\n",
    "\n",
    "        \n",
    "\n",
    "        n1 = always_redraw(lambda : \n",
    "                Arrow(\n",
    "                    start = plane.c2p(0,0), \n",
    "                    end =  plane.c2p(np.cos(t.get_value()),np.sin(t.get_value())),\n",
    "                    buff = 0,\n",
    "                    color = YELLOW                    \n",
    "                    )\n",
    "        )\n",
    "\n",
    "        s = ValueTracker(2)\n",
    "\n",
    "        n2 = always_redraw(lambda : \n",
    "                Arrow(\n",
    "                    start = plane.c2p(0,0), \n",
    "                    end =  plane.c2p(np.cos(s.get_value()),np.sin(s.get_value())),\n",
    "                    buff = 0,\n",
    "                    color = PINK                    \n",
    "                    )\n",
    "        )\n",
    "\n",
    "        u = ValueTracker(1)\n",
    "\n",
    "        n3 = always_redraw(lambda : \n",
    "                Arrow(\n",
    "                    start = plane.c2p(0,0), \n",
    "                    end =  plane.c2p(np.cos(u.get_value()),np.sin(u.get_value())),\n",
    "                    buff = 0,\n",
    "                    color = GREEN               \n",
    "                    )\n",
    "        )\n",
    "\n",
    "        # angle1 = Angle(l1, n1)\n",
    "        # angle1.set_color(YELLOW)\n",
    "\n",
    "        angle1 = always_redraw(lambda : \n",
    "                Angle(l1, n1, color = YELLOW)\n",
    "                \n",
    "\n",
    "        )\n",
    "        \n",
    "\n",
    "        angle2 = Angle(l1, n2)\n",
    "        angle2.set_color(PINK)\n",
    "        angle2.scale(0.7)\n",
    "\n",
    "        angle3 = Angle(l1, l3)\n",
    "        angle3.set_color(GREEN)\n",
    "        angle3.scale(0.7)\n",
    "\n",
    "\n",
    "\n",
    "        a = MathTex(r'\\alpha')\n",
    "        a.next_to(angle1,RIGHT)\n",
    "        a.scale(0.6)\n",
    "        a.set_color(YELLOW)\n",
    "\n",
    "      \n",
    "\n",
    "        b = MathTex(r'\\beta')\n",
    "        b.next_to(angle2, LEFT)\n",
    "        b.scale(0.6)\n",
    "        b.set_color(PINK)\n",
    "\n",
    "        c = MathTex(r'\\alpha + \\beta')\n",
    "        c.scale(0.6)\n",
    "        c.set_color(GREEN)\n",
    "        c.next_to(angle1, DOWN, buff = 0)\n",
    "\n",
    "        real_line = Line(start = [-4,0,0], end = [4,0,0])\n",
    "        real_line.set_color(RED)\n",
    "\n",
    "        t1 = MathTex(r'(cos \\alpha +i sin \\alpha )')\n",
    "        t1.move_to(plane.c2p(-4,2.5))\n",
    "        t1.set_color(YELLOW)\n",
    "\n",
    "        t2 = MathTex(r'(cos\\beta+i sin\\beta )')\n",
    "        t2.next_to(t1, RIGHT)\n",
    "        t2.set_color(PINK)\n",
    "\n",
    "        t3 = MathTex(r'= (cos \\alpha cos\\beta - sin \\alpha sin\\beta ) + i(sin \\alpha cos\\beta +cos \\alpha sin\\beta  )')\n",
    "        t3.move_to(plane.c2p(0, 1.7))\n",
    "        t3.set_color(GREEN)\n",
    "\n",
    "        t4 = MathTex(r'= cos(\\alpha+\\beta)+i sin(\\alpha+\\beta) ')\n",
    "        t4.move_to(plane.c2p(-2.8, 1.7))\n",
    "        t4.set_color(GREEN)\n",
    "\n",
    "        \n",
    "\n",
    "\n",
    "\n",
    "\n",
    "\n",
    "\n",
    "\n",
    "        self.camera.frame.save_state()\n",
    "        self.add(circle, n1, n2, plane, angle1, angle2, a, b, t1, t2)\n",
    "        self.play(self.camera.frame.animate.scale(0.8), run_time = 2)\n",
    "        self.wait(2)\n",
    "        self.play(Write(t3))\n",
    "        self.wait(2)\n",
    "        self.play(Transform(t3, t4))\n",
    "        self.wait(2)\n",
    "        self.play(Write(n3))\n",
    "        self.wait(2)\n",
    "        self.play(u.animate.set_value(3), Write(c), Write(angle3))\n",
    "        self.wait(2)\n",
    "        \n",
    "        \n",
    "\n",
    "        \n",
    "        "
   ]
  },
  {
   "cell_type": "code",
   "execution_count": 41,
   "metadata": {},
   "outputs": [
    {
     "name": "stderr",
     "output_type": "stream",
     "text": [
      "                                                                                              \r"
     ]
    },
    {
     "data": {
      "text/html": [
       "<video src=\"media\\jupyter\\Scene11@2023-02-19@21-31-49.mp4\" controls autoplay loop style=\"max-width: 60%;\"  >\n",
       "      Your browser does not support the <code>video</code> element.\n",
       "    </video>"
      ],
      "text/plain": [
       "<IPython.core.display.Video object>"
      ]
     },
     "metadata": {},
     "output_type": "display_data"
    }
   ],
   "source": [
    "%%manim -v WARNING --disable_caching -qh Scene11\n",
    "\n",
    "class Scene11(Scene):\n",
    "    def construct(self):\n",
    "        plane = ComplexPlane()\n",
    "        plane.add_coordinates()\n",
    "\n",
    "        circle = Circle(radius=1) \n",
    "\n",
    "        t = ValueTracker(0)\n",
    "\n",
    "        n1 = always_redraw(lambda : \n",
    "                Arrow(\n",
    "                    start = plane.c2p(0,0), \n",
    "                    end =  plane.c2p(np.cos(t.get_value()),np.sin(t.get_value())),\n",
    "                    buff = 0,\n",
    "                    color = WHITE                 \n",
    "                    )\n",
    "        )\n",
    "\n",
    "        n2 = always_redraw(lambda : \n",
    "                Arrow(\n",
    "                    start = plane.c2p(0,0), \n",
    "                    end =  plane.c2p(np.cos(t.get_value()*2),np.sin(t.get_value()*2)),\n",
    "                    buff = 0,\n",
    "                    color = YELLOW                    \n",
    "                    )\n",
    "        )\n",
    "\n",
    "        t1 = MathTex(r'z^2')\n",
    "        t1.move_to(plane.c2p(-5,2))\n",
    "        t1.scale(3)\n",
    "        t1.set_color(YELLOW)\n",
    "\n",
    "        self.add(plane, n1, circle, t1, n2)\n",
    "        self.play(t.animate.set_value(2*PI), run_time = 5)\n",
    "        self.wait(2)"
   ]
  },
  {
   "cell_type": "code",
   "execution_count": 42,
   "metadata": {},
   "outputs": [
    {
     "name": "stderr",
     "output_type": "stream",
     "text": [
      "                                                                                              \r"
     ]
    },
    {
     "data": {
      "text/html": [
       "<video src=\"media\\jupyter\\Scene12@2023-02-19@21-31-59.mp4\" controls autoplay loop style=\"max-width: 60%;\"  >\n",
       "      Your browser does not support the <code>video</code> element.\n",
       "    </video>"
      ],
      "text/plain": [
       "<IPython.core.display.Video object>"
      ]
     },
     "metadata": {},
     "output_type": "display_data"
    }
   ],
   "source": [
    "%%manim -v WARNING --disable_caching -qh Scene12\n",
    "\n",
    "class Scene12(Scene):\n",
    "    def construct(self):\n",
    "        plane = ComplexPlane()\n",
    "        plane.add_coordinates()\n",
    "\n",
    "        circle = Circle(radius=2) \n",
    "        circle.set_color(WHITE)\n",
    "        circle2 = Circle(radius=4)\n",
    "        circle2.set_color(YELLOW)\n",
    "\n",
    "        t = ValueTracker(0)\n",
    "\n",
    "        n1 = always_redraw(lambda : \n",
    "                Arrow(\n",
    "                    start = plane.c2p(0,0), \n",
    "                    end =  plane.c2p(np.cos(t.get_value())*2,np.sin(t.get_value())*2),\n",
    "                    buff = 0,\n",
    "                    color = WHITE                 \n",
    "                    )\n",
    "        )\n",
    "\n",
    "        n2 = always_redraw(lambda : \n",
    "                Arrow(\n",
    "                    start = plane.c2p(0,0), \n",
    "                    end =  plane.c2p(np.cos(t.get_value()*2)*4,np.sin(t.get_value()*2)*4),\n",
    "                    buff = 0,\n",
    "                    color = YELLOW                    \n",
    "                    )\n",
    "        )\n",
    "\n",
    "        t1 = MathTex(r'z^2')\n",
    "        t1.move_to(plane.c2p(-5,2))\n",
    "        t1.scale(3)\n",
    "        t1.set_color(YELLOW)\n",
    "\n",
    "        self.add(plane, n1, circle, t1, n2, circle2)\n",
    "        self.play(t.animate.set_value(2*PI), run_time = 5)\n",
    "        self.wait(2)"
   ]
  },
  {
   "cell_type": "code",
   "execution_count": 43,
   "metadata": {},
   "outputs": [
    {
     "name": "stderr",
     "output_type": "stream",
     "text": [
      "                                                                                                 \r"
     ]
    },
    {
     "data": {
      "text/html": [
       "<video src=\"media\\jupyter\\Scene13@2023-02-19@21-32-16.mp4\" controls autoplay loop style=\"max-width: 60%;\"  >\n",
       "      Your browser does not support the <code>video</code> element.\n",
       "    </video>"
      ],
      "text/plain": [
       "<IPython.core.display.Video object>"
      ]
     },
     "metadata": {},
     "output_type": "display_data"
    }
   ],
   "source": [
    "%%manim -v WARNING --disable_caching -qh Scene13\n",
    "\n",
    "class Scene13(MovingCameraScene):\n",
    "    def construct(self):\n",
    "        plane = ComplexPlane()\n",
    "        plane.add_coordinates()\n",
    "\n",
    "        circle = Circle(radius=0.5) \n",
    "        circle.set_color(WHITE)\n",
    "        circle2 = Circle(radius=0.25)\n",
    "        circle2.set_color(YELLOW)\n",
    "\n",
    "        t = ValueTracker(0)\n",
    "\n",
    "        n1 = always_redraw(lambda : \n",
    "                Arrow(\n",
    "                    start = plane.c2p(0,0), \n",
    "                    end =  plane.c2p(np.cos(t.get_value())*0.5,np.sin(t.get_value())*0.5),\n",
    "                    buff = 0,\n",
    "                    color = WHITE                 \n",
    "                    )\n",
    "        )\n",
    "\n",
    "        n2 = always_redraw(lambda : \n",
    "                Arrow(\n",
    "                    start = plane.c2p(0,0), \n",
    "                    end =  plane.c2p(np.cos(t.get_value()*2)*0.25,np.sin(t.get_value()*2)*0.25),\n",
    "                    buff = 0,\n",
    "                    color = YELLOW                    \n",
    "                    )\n",
    "        )\n",
    "\n",
    "        t1 = MathTex(r'z^2')\n",
    "        t1.move_to(plane.c2p(-5,2))\n",
    "        t1.scale(3)\n",
    "        t1.set_color(YELLOW)\n",
    "\n",
    "\n",
    "        self.camera.frame.save_state()\n",
    "        self.add(plane, n1, circle, t1, n2, circle2)\n",
    "        self.play(self.camera.frame.animate.scale(0.2), run_time = 2)\n",
    "        self.wait(2)\n",
    "        self.play(t.animate.set_value(2*PI), run_time = 5)\n",
    "        self.wait(2)"
   ]
  },
  {
   "cell_type": "code",
   "execution_count": 44,
   "metadata": {},
   "outputs": [
    {
     "name": "stderr",
     "output_type": "stream",
     "text": [
      "                                                                                                               \r"
     ]
    },
    {
     "data": {
      "text/html": [
       "<video src=\"media\\jupyter\\Scene14@2023-02-19@21-32-37.mp4\" controls autoplay loop style=\"max-width: 60%;\"  >\n",
       "      Your browser does not support the <code>video</code> element.\n",
       "    </video>"
      ],
      "text/plain": [
       "<IPython.core.display.Video object>"
      ]
     },
     "metadata": {},
     "output_type": "display_data"
    }
   ],
   "source": [
    "%%manim -v WARNING --disable_caching -qh Scene14\n",
    "\n",
    "class Scene14(MovingCameraScene):\n",
    "    def construct(self):\n",
    "        plane = ComplexPlane()\n",
    "        plane.add_coordinates()\n",
    "\n",
    "        dot1 = Dot(plane.c2p(1,1))\n",
    "        dot2 = Dot(plane.c2p(0,2))\n",
    "\n",
    "\n",
    "        self.camera.frame.save_state()\n",
    "        self.add(plane, dot1, dot2)\n",
    "        self.wait(2)\n",
    "        self.play(FadeOut(dot1), FadeOut(dot2))\n",
    "        self.wait(2)\n",
    "        self.play(self.camera.frame.animate.scale(2), run_time = 2)\n",
    "        self.wait(2)\n",
    "        self.play(plane.animate.apply_complex_function(lambda z : z**2), run_time = 5)\n",
    "        self.wait(2)\n",
    "        \n",
    "        "
   ]
  },
  {
   "cell_type": "code",
   "execution_count": 6,
   "metadata": {},
   "outputs": [
    {
     "name": "stderr",
     "output_type": "stream",
     "text": [
      "                                                                                              \r"
     ]
    },
    {
     "data": {
      "text/html": [
       "<video src=\"media\\jupyter\\Scene16@2023-02-20@00-57-38.mp4\" controls autoplay loop style=\"max-width: 60%;\"  >\n",
       "      Your browser does not support the <code>video</code> element.\n",
       "    </video>"
      ],
      "text/plain": [
       "<IPython.core.display.Video object>"
      ]
     },
     "metadata": {},
     "output_type": "display_data"
    }
   ],
   "source": [
    "%%manim -v WARNING --disable_caching -qh Scene16\n",
    "\n",
    "class Scene16(MovingCameraScene):\n",
    "    def construct(self):\n",
    "        plane = ComplexPlane()\n",
    "        \n",
    "        t1 = MathTex('x^2+i = 0')\n",
    "        t1.move_to(RIGHT*4+UP*2.5)\n",
    "        t1.set_color(YELLOW)\n",
    "\n",
    "        t = ValueTracker(0.5)\n",
    "\n",
    "        circle1 = always_redraw(\n",
    "            lambda :\n",
    "            Circle(radius=t.get_value(), color = WHITE) \n",
    "        )\n",
    "\n",
    "        circle2 = always_redraw(\n",
    "            lambda :\n",
    "            Circle(radius=t.get_value()**2, color = YELLOW, arc_center = [0,1,0]) \n",
    "        )\n",
    "\n",
    "\n",
    "        \n",
    "        \n",
    "       \n",
    "\n",
    "        \n",
    "\n",
    "        self.add(plane, t1, circle1, circle2)\n",
    "        self.wait(2)\n",
    "        self.play(t.animate.set_value(0.15))\n",
    "        self.wait(2)\n",
    "        self.play(t.animate.set_value(1.5))\n",
    "        self.wait(2)\n",
    "        self.play(t.animate.set_value(2.5))\n",
    "        self.wait(2)\n",
    "        self.play(t.animate.set_value(0.15), run_time = 2)\n",
    "        self.wait(2)\n",
    "        self.play(t.animate.set_value(1))\n",
    "        self.wait(2)\n",
    "        self.play(t.animate.set_value(0.15))\n",
    "        self.wait(2)\n",
    "        self.play(t.animate.set_value(2.5))\n",
    "        self.wait(2)"
   ]
  },
  {
   "cell_type": "code",
   "execution_count": 24,
   "metadata": {},
   "outputs": [
    {
     "data": {
      "image/png": "[encoded data removed]",
      "text/plain": [
       "<IPython.core.display.Image object>"
      ]
     },
     "metadata": {},
     "output_type": "display_data"
    }
   ],
   "source": [
    "%%manim -v WARNING --disable_caching -qh Thumnbail\n",
    "\n",
    "class Thumnbail(MovingCameraScene):\n",
    "\n",
    "    def construct(self):\n",
    "        plane = ComplexPlane(\n",
    "            background_line_style={\n",
    "                \n",
    "                \"stroke_width\": 12\n",
    "                \n",
    "            }\n",
    "\n",
    "        )\n",
    "        plane.add_coordinates()\n",
    "\n",
    "        plane.apply_complex_function(lambda z : z**2)\n",
    "\n",
    "        t = MathTex(r'\\sqrt{-1}', stroke_width = 8)\n",
    "        t.set_color(YELLOW)\n",
    "        t.scale(5)\n",
    "        # t.move_to(UP*4)\n",
    "\n",
    "        \n",
    "\n",
    "\n",
    "        \n",
    "        self.add(plane, t)\n",
    "\n",
    "        self.camera.frame.scale(2.2)\n",
    "\n",
    "        # self.camera.frame.save_state()\n",
    "        # self.add(plane, dot1, dot2)\n",
    "        # self.wait(2)\n",
    "        # self.play(FadeOut(dot1), FadeOut(dot2))\n",
    "        # self.wait(2)\n",
    "        # self.play(self.camera.frame.animate.scale(2), run_time = 2)\n",
    "        # self.wait(2)\n",
    "        # self.play(plane.animate.apply_complex_function(lambda z : z**2), run_time = 5)\n",
    "        # self.wait(2)"
   ]
  },
  {
   "cell_type": "code",
   "execution_count": 41,
   "metadata": {},
   "outputs": [
    {
     "name": "stderr",
     "output_type": "stream",
     "text": [
      "c:\\Users\\untea\\youtube\\lib\\site-packages\\manim\\mobject\\svg\\svg_mobject.py:345: UserWarning: media\\Tex\\2492ee807fbcdac0.svg contains a reference to id #g2-186, which is not recognized\n",
      "  warnings.warn(warning_text)\n",
      "c:\\Users\\untea\\youtube\\lib\\site-packages\\manim\\mobject\\svg\\svg_mobject.py:345: UserWarning: media\\Tex\\2492ee807fbcdac0.svg contains a reference to id #g2-195, which is not recognized\n",
      "  warnings.warn(warning_text)\n",
      "c:\\Users\\untea\\youtube\\lib\\site-packages\\manim\\mobject\\svg\\svg_mobject.py:345: UserWarning: media\\Tex\\2492ee807fbcdac0.svg contains a reference to id #g3-134, which is not recognized\n",
      "  warnings.warn(warning_text)\n",
      "c:\\Users\\untea\\youtube\\lib\\site-packages\\manim\\mobject\\svg\\svg_mobject.py:345: UserWarning: media\\Tex\\2492ee807fbcdac0.svg contains a reference to id #g2-92, which is not recognized\n",
      "  warnings.warn(warning_text)\n",
      "c:\\Users\\untea\\youtube\\lib\\site-packages\\manim\\mobject\\svg\\svg_mobject.py:345: UserWarning: media\\Tex\\2492ee807fbcdac0.svg contains a reference to id #g2-129, which is not recognized\n",
      "  warnings.warn(warning_text)\n",
      "c:\\Users\\untea\\youtube\\lib\\site-packages\\manim\\mobject\\svg\\svg_mobject.py:345: UserWarning: media\\Tex\\2492ee807fbcdac0.svg contains a reference to id #g5-60, which is not recognized\n",
      "  warnings.warn(warning_text)\n",
      "c:\\Users\\untea\\youtube\\lib\\site-packages\\manim\\mobject\\svg\\svg_mobject.py:345: UserWarning: media\\Tex\\2492ee807fbcdac0.svg contains a reference to id #g2-47, which is not recognized\n",
      "  warnings.warn(warning_text)\n",
      "c:\\Users\\untea\\youtube\\lib\\site-packages\\manim\\mobject\\svg\\svg_mobject.py:345: UserWarning: media\\Tex\\2492ee807fbcdac0.svg contains a reference to id #g2-63, which is not recognized\n",
      "  warnings.warn(warning_text)\n",
      "c:\\Users\\untea\\youtube\\lib\\site-packages\\manim\\mobject\\svg\\svg_mobject.py:345: UserWarning: media\\Tex\\2492ee807fbcdac0.svg contains a reference to id #g4-198, which is not recognized\n",
      "  warnings.warn(warning_text)\n",
      "c:\\Users\\untea\\youtube\\lib\\site-packages\\manim\\mobject\\svg\\svg_mobject.py:345: UserWarning: media\\Tex\\2492ee807fbcdac0.svg contains a reference to id #g2-34, which is not recognized\n",
      "  warnings.warn(warning_text)\n",
      "c:\\Users\\untea\\youtube\\lib\\site-packages\\manim\\mobject\\svg\\svg_mobject.py:345: UserWarning: media\\Tex\\2492ee807fbcdac0.svg contains a reference to id #g2-102, which is not recognized\n",
      "  warnings.warn(warning_text)\n",
      "c:\\Users\\untea\\youtube\\lib\\site-packages\\manim\\mobject\\svg\\svg_mobject.py:345: UserWarning: media\\Tex\\f8499107742b6afd.svg contains a reference to id #g5-20, which is not recognized\n",
      "  warnings.warn(warning_text)\n",
      "c:\\Users\\untea\\youtube\\lib\\site-packages\\manim\\mobject\\svg\\svg_mobject.py:345: UserWarning: media\\Tex\\f8499107742b6afd.svg contains a reference to id #g5-27, which is not recognized\n",
      "  warnings.warn(warning_text)\n",
      "c:\\Users\\untea\\youtube\\lib\\site-packages\\manim\\mobject\\svg\\svg_mobject.py:345: UserWarning: media\\Tex\\f8499107742b6afd.svg contains a reference to id #g5-148, which is not recognized\n",
      "  warnings.warn(warning_text)\n",
      "c:\\Users\\untea\\youtube\\lib\\site-packages\\manim\\mobject\\svg\\svg_mobject.py:345: UserWarning: media\\Tex\\f8499107742b6afd.svg contains a reference to id #g4-199, which is not recognized\n",
      "  warnings.warn(warning_text)\n",
      "c:\\Users\\untea\\youtube\\lib\\site-packages\\manim\\mobject\\svg\\svg_mobject.py:345: UserWarning: media\\Tex\\f8499107742b6afd.svg contains a reference to id #g5-241, which is not recognized\n",
      "  warnings.warn(warning_text)\n",
      "c:\\Users\\untea\\youtube\\lib\\site-packages\\manim\\mobject\\svg\\svg_mobject.py:345: UserWarning: media\\Tex\\f8499107742b6afd.svg contains a reference to id #g4-4, which is not recognized\n",
      "  warnings.warn(warning_text)\n",
      "c:\\Users\\untea\\youtube\\lib\\site-packages\\manim\\mobject\\svg\\svg_mobject.py:345: UserWarning: media\\Tex\\f8499107742b6afd.svg contains a reference to id #g4-10, which is not recognized\n",
      "  warnings.warn(warning_text)\n",
      "c:\\Users\\untea\\youtube\\lib\\site-packages\\manim\\mobject\\svg\\svg_mobject.py:345: UserWarning: media\\Tex\\f8499107742b6afd.svg contains a reference to id #g4-38, which is not recognized\n",
      "  warnings.warn(warning_text)\n",
      "c:\\Users\\untea\\youtube\\lib\\site-packages\\manim\\mobject\\svg\\svg_mobject.py:345: UserWarning: media\\Tex\\f8499107742b6afd.svg contains a reference to id #g3-244, which is not recognized\n",
      "  warnings.warn(warning_text)\n",
      "c:\\Users\\untea\\youtube\\lib\\site-packages\\manim\\mobject\\svg\\svg_mobject.py:345: UserWarning: media\\Tex\\f8499107742b6afd.svg contains a reference to id #g6-72, which is not recognized\n",
      "  warnings.warn(warning_text)\n",
      "c:\\Users\\untea\\youtube\\lib\\site-packages\\manim\\mobject\\svg\\svg_mobject.py:345: UserWarning: media\\Tex\\f8499107742b6afd.svg contains a reference to id #g6-141, which is not recognized\n",
      "  warnings.warn(warning_text)\n",
      "c:\\Users\\untea\\youtube\\lib\\site-packages\\manim\\mobject\\svg\\svg_mobject.py:345: UserWarning: media\\Tex\\f8499107742b6afd.svg contains a reference to id #g4-116, which is not recognized\n",
      "  warnings.warn(warning_text)\n",
      "c:\\Users\\untea\\youtube\\lib\\site-packages\\manim\\mobject\\svg\\svg_mobject.py:345: UserWarning: media\\Tex\\f8499107742b6afd.svg contains a reference to id #g4-212, which is not recognized\n",
      "  warnings.warn(warning_text)\n",
      "c:\\Users\\untea\\youtube\\lib\\site-packages\\manim\\mobject\\svg\\svg_mobject.py:345: UserWarning: media\\Tex\\f8499107742b6afd.svg contains a reference to id #g5-113, which is not recognized\n",
      "  warnings.warn(warning_text)\n",
      "c:\\Users\\untea\\youtube\\lib\\site-packages\\manim\\mobject\\svg\\svg_mobject.py:345: UserWarning: media\\Tex\\f8499107742b6afd.svg contains a reference to id #g3-205, which is not recognized\n",
      "  warnings.warn(warning_text)\n",
      "c:\\Users\\untea\\youtube\\lib\\site-packages\\manim\\mobject\\svg\\svg_mobject.py:345: UserWarning: media\\Tex\\f8499107742b6afd.svg contains a reference to id #g3-234, which is not recognized\n",
      "  warnings.warn(warning_text)\n",
      "c:\\Users\\untea\\youtube\\lib\\site-packages\\manim\\mobject\\svg\\svg_mobject.py:345: UserWarning: media\\Tex\\f8499107742b6afd.svg contains a reference to id #g4-248, which is not recognized\n",
      "  warnings.warn(warning_text)\n",
      "c:\\Users\\untea\\youtube\\lib\\site-packages\\manim\\mobject\\svg\\svg_mobject.py:345: UserWarning: media\\Tex\\f8499107742b6afd.svg contains a reference to id #g6-114, which is not recognized\n",
      "  warnings.warn(warning_text)\n",
      "c:\\Users\\untea\\youtube\\lib\\site-packages\\manim\\mobject\\svg\\svg_mobject.py:345: UserWarning: media\\Tex\\f8499107742b6afd.svg contains a reference to id #g6-148, which is not recognized\n",
      "  warnings.warn(warning_text)\n",
      "c:\\Users\\untea\\youtube\\lib\\site-packages\\manim\\mobject\\svg\\svg_mobject.py:345: UserWarning: media\\Tex\\f8499107742b6afd.svg contains a reference to id #g3-167, which is not recognized\n",
      "  warnings.warn(warning_text)\n",
      "c:\\Users\\untea\\youtube\\lib\\site-packages\\manim\\mobject\\svg\\svg_mobject.py:345: UserWarning: media\\Tex\\f8499107742b6afd.svg contains a reference to id #g3-183, which is not recognized\n",
      "  warnings.warn(warning_text)\n",
      "c:\\Users\\untea\\youtube\\lib\\site-packages\\manim\\mobject\\svg\\svg_mobject.py:345: UserWarning: media\\Tex\\f8499107742b6afd.svg contains a reference to id #g3-250, which is not recognized\n",
      "  warnings.warn(warning_text)\n",
      "c:\\Users\\untea\\youtube\\lib\\site-packages\\manim\\mobject\\svg\\svg_mobject.py:345: UserWarning: media\\Tex\\16f2107e166b49be.svg contains a reference to id #g7-7, which is not recognized\n",
      "  warnings.warn(warning_text)\n",
      "c:\\Users\\untea\\youtube\\lib\\site-packages\\manim\\mobject\\svg\\svg_mobject.py:345: UserWarning: media\\Tex\\16f2107e166b49be.svg contains a reference to id #g2-10, which is not recognized\n",
      "  warnings.warn(warning_text)\n",
      "c:\\Users\\untea\\youtube\\lib\\site-packages\\manim\\mobject\\svg\\svg_mobject.py:345: UserWarning: media\\Tex\\16f2107e166b49be.svg contains a reference to id #g2-19, which is not recognized\n",
      "  warnings.warn(warning_text)\n",
      "c:\\Users\\untea\\youtube\\lib\\site-packages\\manim\\mobject\\svg\\svg_mobject.py:345: UserWarning: media\\Tex\\16f2107e166b49be.svg contains a reference to id #g6-92, which is not recognized\n",
      "  warnings.warn(warning_text)\n",
      "c:\\Users\\untea\\youtube\\lib\\site-packages\\manim\\mobject\\svg\\svg_mobject.py:345: UserWarning: media\\Tex\\16f2107e166b49be.svg contains a reference to id #g6-166, which is not recognized\n",
      "  warnings.warn(warning_text)\n",
      "c:\\Users\\untea\\youtube\\lib\\site-packages\\manim\\mobject\\svg\\svg_mobject.py:345: UserWarning: media\\Tex\\16f2107e166b49be.svg contains a reference to id #g2-212, which is not recognized\n",
      "  warnings.warn(warning_text)\n",
      "c:\\Users\\untea\\youtube\\lib\\site-packages\\manim\\mobject\\svg\\svg_mobject.py:345: UserWarning: media\\Tex\\16f2107e166b49be.svg contains a reference to id #g2-225, which is not recognized\n",
      "  warnings.warn(warning_text)\n",
      "c:\\Users\\untea\\youtube\\lib\\site-packages\\manim\\mobject\\svg\\svg_mobject.py:345: UserWarning: media\\Tex\\16f2107e166b49be.svg contains a reference to id #g2-27, which is not recognized\n",
      "  warnings.warn(warning_text)\n",
      "c:\\Users\\untea\\youtube\\lib\\site-packages\\manim\\mobject\\svg\\svg_mobject.py:345: UserWarning: media\\Tex\\16f2107e166b49be.svg contains a reference to id #g2-111, which is not recognized\n",
      "  warnings.warn(warning_text)\n",
      "c:\\Users\\untea\\youtube\\lib\\site-packages\\manim\\mobject\\svg\\svg_mobject.py:345: UserWarning: media\\Tex\\16f2107e166b49be.svg contains a reference to id #g2-0, which is not recognized\n",
      "  warnings.warn(warning_text)\n",
      "c:\\Users\\untea\\youtube\\lib\\site-packages\\manim\\mobject\\svg\\svg_mobject.py:345: UserWarning: media\\Tex\\16f2107e166b49be.svg contains a reference to id #g2-188, which is not recognized\n",
      "  warnings.warn(warning_text)\n",
      "c:\\Users\\untea\\youtube\\lib\\site-packages\\manim\\mobject\\svg\\svg_mobject.py:345: UserWarning: media\\Tex\\16f2107e166b49be.svg contains a reference to id #g2-215, which is not recognized\n",
      "  warnings.warn(warning_text)\n",
      "c:\\Users\\untea\\youtube\\lib\\site-packages\\manim\\mobject\\svg\\svg_mobject.py:345: UserWarning: media\\Tex\\16f2107e166b49be.svg contains a reference to id #g2-121, which is not recognized\n",
      "  warnings.warn(warning_text)\n",
      "c:\\Users\\untea\\youtube\\lib\\site-packages\\manim\\mobject\\svg\\svg_mobject.py:345: UserWarning: media\\Tex\\16f2107e166b49be.svg contains a reference to id #g2-186, which is not recognized\n",
      "  warnings.warn(warning_text)\n",
      "c:\\Users\\untea\\youtube\\lib\\site-packages\\manim\\mobject\\svg\\svg_mobject.py:345: UserWarning: media\\Tex\\16f2107e166b49be.svg contains a reference to id #g2-196, which is not recognized\n",
      "  warnings.warn(warning_text)\n",
      "                                                                                  \r"
     ]
    },
    {
     "data": {
      "text/html": [
       "<video src=\"media\\jupyter\\StartSentence@2023-02-20@13-49-10.mp4\" controls autoplay loop style=\"max-width: 60%;\"  >\n",
       "      Your browser does not support the <code>video</code> element.\n",
       "    </video>"
      ],
      "text/plain": [
       "<IPython.core.display.Video object>"
      ]
     },
     "metadata": {},
     "output_type": "display_data"
    }
   ],
   "source": [
    "%%manim -v WARNING --disable_caching -qh StartSentence\n",
    "\n",
    "\n",
    "class StartSentence(Scene):\n",
    "    def construct(self):\n",
    "       \n",
    "        text1 = Tex(\"수학 내에서는,\").move_to(UP*2.5+LEFT*2.3+DOWN*1.5)\n",
    "        text2 = Tex(\"진정한 논쟁이란 존재하지 않는다.\", color = BLUE_C).move_to(UP*1.8+RIGHT*1.5+DOWN*1.5+LEFT*0.3)\n",
    "             \n",
    "        text3 = Tex(\"카를 프리드리히 가우스\").move_to(DOWN*3.5+RIGHT*3+UP*3+LEFT*0.3)\n",
    "\n",
    "        \n",
    "        # group.move_to(UP*0.2)\n",
    "        \n",
    "\n",
    "        \n",
    "        # self.play(Write(group), run_time = 5)\n",
    "\n",
    "        # self.add(text1, text2, text3)\n",
    "\n",
    "        self.play(LaggedStart(Write(text1), Write(text2),Write(text3),run_time = 3, lag_ratio=0.15))\n",
    "        self.wait(1.3)\n",
    "        "
   ]
  }
 ],
 "metadata": {
  "kernelspec": {
   "display_name": "youtube",
   "language": "python",
   "name": "python3"
  },
  "language_info": {
   "codemirror_mode": {
    "name": "ipython",
    "version": 3
   },
   "file_extension": ".py",
   "mimetype": "text/x-python",
   "name": "python",
   "nbconvert_exporter": "python",
   "pygments_lexer": "ipython3",
   "version": "3.9.13"
  },
  "orig_nbformat": 4,
  "vscode": {
   "interpreter": {
    "hash": "4f3cba9213f688e4358307c76621dac2e83c62b60e22941176b421a95a24590a"
   }
  }
 },
 "nbformat": 4,
 "nbformat_minor": 2
}
